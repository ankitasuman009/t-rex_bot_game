{
 "cells": [
  {
   "cell_type": "code",
   "execution_count": 1,
   "metadata": {},
   "outputs": [],
   "source": [
    "import numpy as np\n",
    "import pyautogui as pyg\n",
    "import keyboard as kb\n",
    "from PIL import ImageGrab, ImageOps\n",
    "from time import sleep"
   ]
  },
  {
   "cell_type": "code",
   "execution_count": 2,
   "metadata": {},
   "outputs": [],
   "source": [
    "replayButton = (960, 584)\n",
    "dino = (666, 571)"
   ]
  },
  {
   "cell_type": "code",
   "execution_count": 3,
   "metadata": {},
   "outputs": [],
   "source": [
    "def restart():\n",
    "    pyg.click(replayButton)\n",
    "\n",
    "def image_grab():\n",
    "    box = (dino[0]+55, dino[1], dino[0]+145, dino[1]+5)\n",
    "    image = ImageGrab.grab(box)\n",
    "    gray_image = ImageOps.grayscale(image)\n",
    "    color_box = np.array(gray_image.getcolors())\n",
    "    return color_box.sum()\n",
    "\n",
    "def press_space():\n",
    "    pyg.keyDown('space')\n",
    "    sleep(0.1)\n",
    "    pyg.keyUp('space')\n",
    "    \n",
    "sleep(4)\n",
    "restart()\n",
    "\n",
    "while not kb.is_pressed('q'):\n",
    "    if image_grab() != 697:\n",
    "        press_space()"
   ]
  }
 ],
 "metadata": {
  "kernelspec": {
   "display_name": "Python 3",
   "language": "python",
   "name": "python3"
  },
  "language_info": {
   "codemirror_mode": {
    "name": "ipython",
    "version": 3
   },
   "file_extension": ".py",
   "mimetype": "text/x-python",
   "name": "python",
   "nbconvert_exporter": "python",
   "pygments_lexer": "ipython3",
   "version": "3.7.6"
  }
 },
 "nbformat": 4,
 "nbformat_minor": 4
}
